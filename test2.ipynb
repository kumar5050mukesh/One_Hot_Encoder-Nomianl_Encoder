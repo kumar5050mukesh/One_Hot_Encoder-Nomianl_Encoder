{
 "cells": [
  {
   "cell_type": "code",
   "execution_count": null,
   "metadata": {},
   "outputs": [],
   "source": [
    "# Q1. What is data encoding? How is it useful in data science?\n",
    "\"\"\"Data encoding is a process in which the catgorical data is converted into a numerical data .It is useful in data science \n",
    "because because any algorithm require numerical featured to compute \"\"\""
   ]
  },
  {
   "cell_type": "code",
   "execution_count": null,
   "metadata": {},
   "outputs": [],
   "source": [
    "# Q2. What is nominal encoding? Provide an example of how you would use it in a real-world scenario.\n",
    "\"\"\"Nominal encoding is the situation in which the catagorical is converted into numerical data .Nominal encoding is particualry \n",
    "done if the catagorical data is ordinal here the ordianl data is ranked as numbers as 0,1,2,3 \n",
    "In the real world senario if the feedback is good ,better , best then the numerical value is 0,1,2  \"\"\""
   ]
  },
  {
   "cell_type": "code",
   "execution_count": null,
   "metadata": {},
   "outputs": [],
   "source": [
    "# Q3. In what situations is nominal encoding preferred over one-hot encoding? Provide a practical example.\n",
    "\"\"\"In the situation in which the catagorical data is nominal then then one hot encoding is used and in the case \n",
    "in which the data is ordinal and in this case nominal encoding \"\"\""
   ]
  },
  {
   "cell_type": "code",
   "execution_count": null,
   "metadata": {},
   "outputs": [],
   "source": [
    "# Q4. Suppose you have a dataset containing categorical data with 5 unique values. Which encoding\n",
    "# technique would you use to transform this dhata into a format suitable for machine learning algorithms?\n",
    "# Explain why you made this choice.\n",
    "\"\"\"We have a dataset that has 5 unique values for the column we haves used OneHotEncoding for this \n",
    "because it is the simplest way to represent the data in the vector representation \n",
    "The vector representation The binary vector has a value for the corrsponding value and for allthe other cases the value is 0\"\"\""
   ]
  },
  {
   "cell_type": "code",
   "execution_count": null,
   "metadata": {},
   "outputs": [],
   "source": [
    "# Q5. In a machine learning project, you have a dataset with 1000 rows and 5 columns. Two of the columns\n",
    "# are categorical, and the remaining three columns are numerical. If you were to use nominal encoding to\n",
    "# transform the categorical data, how many new columns would be created? Show your calculations.\n",
    "\"\"\"In the two catagorical columns we wil count the number of the unique values in both the columns \n",
    "suppose the first coulmn has 3 unique value and the second column has 4 unique values then a total\n",
    "of 7 new columns will be added \n",
    "\n",
    "the number of unique value in the firsr row = 3\n",
    "the number of the unique value in the second row= 4\n",
    "total new rows that will be get created is = 3+4=7\n",
    "\"\"\""
   ]
  },
  {
   "cell_type": "code",
   "execution_count": null,
   "metadata": {},
   "outputs": [],
   "source": [
    "# Q6. You are working with a dataset containing information about different types of animals, including their\n",
    "# species, habitat, and diet. Which encoding technique would you use to transform the categorical data into\n",
    "# a format suitable for machine learning algorithms? Justify your answer.\n",
    "\"\"\"we have the data about the species , habitat and the diet ,so these data is nominal so we wil use HotOneEncoding \"\"\""
   ]
  },
  {
   "cell_type": "code",
   "execution_count": 6,
   "metadata": {},
   "outputs": [
    {
     "data": {
      "text/plain": [
       "'we have features like customers gender,age , contract, monthly charges,tenure  .\\nIn the above features the age ,monthly charge ,tenure ,is the numerical data so it will not be encoded \\nthe catagorical data is the gender and the contract type ,both the gender and the contract type seem to be \\nnominal data so OneHotEncoding will be used in this case '"
      ]
     },
     "execution_count": 6,
     "metadata": {},
     "output_type": "execute_result"
    }
   ],
   "source": [
    "# Q7.You are working on a project that involves predicting customer churn for a telecommunications\n",
    "# company. You have a dataset with 5 features, including the customer's gender, age, contract type,\n",
    "# monthly charges, and tenure. Which encoding technique(s) would you use to transform the categorical\n",
    "# data into numerical data? Provide a step-by-step explanation of how you would implement the encoding.\n",
    "\"\"\"we have features like customers gender,age , contract, monthly charges,tenure  .\n",
    "In the above features the age ,monthly charge ,tenure ,is the numerical data so it will not be encoded \n",
    "the catagorical data is the gender and the contract type ,both the gender and the contract type seem to be \n",
    "nominal data so OneHotEncoding will be used in this case \"\"\"\n",
    "\n"
   ]
  },
  {
   "cell_type": "code",
   "execution_count": 5,
   "metadata": {},
   "outputs": [
    {
     "name": "stdout",
     "output_type": "stream",
     "text": [
      "   age  monthly_charges  tenure  gender_female  gender_male  c_type_private  \\\n",
      "0   28             2300       1            0.0          1.0             1.0   \n",
      "1   34             3400       4            1.0          0.0             0.0   \n",
      "2   56             1100       6            0.0          1.0             1.0   \n",
      "3   78             5600       8            0.0          1.0             1.0   \n",
      "4   56             2300       9            1.0          0.0             0.0   \n",
      "\n",
      "   c_type_public  \n",
      "0            0.0  \n",
      "1            1.0  \n",
      "2            0.0  \n",
      "3            0.0  \n",
      "4            1.0  \n"
     ]
    }
   ],
   "source": [
    "from sklearn.preprocessing import OneHotEncoder\n",
    "import pandas as pd\n",
    "\n",
    "\n",
    "data = pd.DataFrame({'gender': [\"male\",\"female\",\"male\",\"male\",\"female\"],\n",
    "                     'age': [28,34,56,78,56],\n",
    "                     'c_type': [\"private\",\"public\",\"private\",\"private\",\"public\"],\n",
    "                     'monthly_charges': [2300,3400,1100,5600,2300],\n",
    "                     'tenure': [1,4,6,8,9]})\n",
    "\n",
    "\n",
    "cat_cols = ['gender', 'c_type']\n",
    "encoder = OneHotEncoder()\n",
    "data_encoded = encoder.fit_transform(data[cat_cols])\n",
    "data_encoded_arr = data_encoded.toarray()\n",
    "data_encoded_df = pd.DataFrame(data_encoded_arr, columns=encoder.get_feature_names_out(cat_cols))\n",
    "data_concat = pd.concat([data.drop(cat_cols, axis=1), data_encoded_df], axis=1)\n",
    "print(data_concat)\n"
   ]
  },
  {
   "cell_type": "code",
   "execution_count": null,
   "metadata": {},
   "outputs": [],
   "source": []
  }
 ],
 "metadata": {
  "kernelspec": {
   "display_name": "Python 3",
   "language": "python",
   "name": "python3"
  },
  "language_info": {
   "codemirror_mode": {
    "name": "ipython",
    "version": 3
   },
   "file_extension": ".py",
   "mimetype": "text/x-python",
   "name": "python",
   "nbconvert_exporter": "python",
   "pygments_lexer": "ipython3",
   "version": "3.11.2"
  },
  "orig_nbformat": 4
 },
 "nbformat": 4,
 "nbformat_minor": 2
}
